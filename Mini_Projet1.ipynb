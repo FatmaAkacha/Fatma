{
  "nbformat": 4,
  "nbformat_minor": 0,
  "metadata": {
    "colab": {
      "provenance": [],
      "authorship_tag": "ABX9TyPobTyfQeIVOUsvLrEm92Ne",
      "include_colab_link": true
    },
    "kernelspec": {
      "name": "python3",
      "display_name": "Python 3"
    },
    "language_info": {
      "name": "python"
    }
  },
  "cells": [
    {
      "cell_type": "markdown",
      "metadata": {
        "id": "view-in-github",
        "colab_type": "text"
      },
      "source": [
        "<a href=\"https://colab.research.google.com/github/FatmaAkacha/Fatma/blob/main/Mini_Projet1.ipynb\" target=\"_parent\"><img src=\"https://colab.research.google.com/assets/colab-badge.svg\" alt=\"Open In Colab\"/></a>"
      ]
    },
    {
      "cell_type": "markdown",
      "source": [
        "# **Rapport : Jeu de Roulette Américaine:**"
      ],
      "metadata": {
        "id": "tlAdITB5IbYj"
      }
    },
    {
      "cell_type": "markdown",
      "source": [
        "# 1. Situation réelle choisi:"
      ],
      "metadata": {
        "id": "krUSwGWbI3Bd"
      }
    },
    {
      "cell_type": "markdown",
      "source": [
        "Le jeu de roulette américaine est un jeu de hasard populaire dans les casinos. Dans ce jeu, une bille est lancée dans un plateau tournant avec des cases numérotées de 0 à 36, ainsi qu'une case supplémentaire marquée \"00\". Les joueurs peuvent parier sur différents résultats possibles, tels que le numéro exact sur lequel la bille va atterrir."
      ],
      "metadata": {
        "id": "Jk6CxhOXIsDu"
      }
    },
    {
      "cell_type": "markdown",
      "source": [
        "# 2. Modélisation Probabiliste"
      ],
      "metadata": {
        "id": "qzJmVMXtJDoE"
      }
    },
    {
      "cell_type": "markdown",
      "source": [
        "# 2.1.\tExpérience Aléatoire et Espace Probabilisé:"
      ],
      "metadata": {
        "id": "qzfsp4N4JZbC"
      }
    },
    {
      "cell_type": "markdown",
      "source": [
        "L'expérience aléatoire consiste en chaque tour de roulette, où la bille atterrit sur un numéro spécifique. L'espace probabilisé est l'ensemble des résultats possibles, composé des numéros de 0 à 36, ainsi que le numéro supplémentaire \"00\"."
      ],
      "metadata": {
        "id": "hzOPpc0yJ3xC"
      }
    },
    {
      "cell_type": "markdown",
      "source": [
        "# 2.2.\tVariables Aléatoires et Loi de Probabilité:"
      ],
      "metadata": {
        "id": "U0VeQUVcJ7gD"
      }
    },
    {
      "cell_type": "markdown",
      "source": [
        "Nous utilisons une variable aléatoire binomiale pour modéliser le nombre d'atterrissages sur un numéro spécifique en un certain nombre de tours de roulette. La probabilité de succès est définie comme la probabilité qu'une bille atterrisse sur un numéro spécifique, calculée comme 1/38, compte tenu des 38 numéros possibles sur la roulette américaine."
      ],
      "metadata": {
        "id": "gHEok5ifKEfP"
      }
    },
    {
      "cell_type": "markdown",
      "source": [
        "# 2.3.\tCalcul de Probabilités et d'Espérance:"
      ],
      "metadata": {
        "id": "Dr2vcvGbKHbc"
      }
    },
    {
      "cell_type": "markdown",
      "source": [
        "En utilisant la distribution binomiale, nous calculons les probabilités associées à chaque nombre d'atterrissages sur un numéro spécifique. De plus, nous calculons l'espérance et la variance de la variable aléatoire binomiale, qui fournissent des indications sur la tendance centrale et la dispersion des résultats."
      ],
      "metadata": {
        "id": "hCBGdDBMKLrh"
      }
    },
    {
      "cell_type": "markdown",
      "source": [
        "# 3. Code Python:"
      ],
      "metadata": {
        "id": "k-tMYDWoKQKy"
      }
    },
    {
      "cell_type": "markdown",
      "source": [
        "# 3.1 Insertion des paramètres de roulette:"
      ],
      "metadata": {
        "id": "F4ZkEBhkLD9P"
      }
    },
    {
      "cell_type": "code",
      "source": [
        "import matplotlib.pyplot as plt\n",
        "import numpy as np\n",
        "from scipy.stats import binom\n",
        "\n",
        "# Expérience aléatoire et espace probabilisé : Chaque tour de roulette est une expérience aléatoire où la bille atterrit sur un numéro spécifique.\n",
        "# L'espace probabilisé est l'ensemble des résultats possibles, soit les 38 numéros de la roulette américaine.\n",
        "\n",
        "nombre_tours = 20  # Nombre de tours de roulette\n",
        "nombre_numeros = 38  # Nombre total de numéros sur la roulette (0 à 36, plus 00)\n",
        "probabilite_succes = 1 / nombre_numeros  # Probabilité qu'une bille atterrisse sur un numéro spécifique\n",
        "\n",
        "rv_binomiale = binom(nombre_tours, probabilite_succes)\n",
        "k_values = np.arange(0, nombre_tours + 1)\n",
        "\n",
        "probabilites = rv_binomiale.pmf(k_values)\n",
        "esperance = rv_binomiale.mean()\n",
        "variance = rv_binomiale.var()\n"
      ],
      "metadata": {
        "id": "qzFRTsWuQXqx"
      },
      "execution_count": null,
      "outputs": []
    },
    {
      "cell_type": "markdown",
      "source": [
        "## 3.2 Affichage:"
      ],
      "metadata": {
        "id": "URZAZO_IK8Hf"
      }
    },
    {
      "cell_type": "code",
      "source": [
        "plt.figure(figsize=(10, 6))\n",
        "plt.bar(k_values, probabilites, color='teal', alpha=0.7)\n",
        "plt.title('Distribution de probabilité pour le nombre d\\'atterrissages sur un numéro spécifique en {} tours de roulette'.format(nombre_tours))\n",
        "plt.xlabel('Nombre d\\'atterrissages sur un numéro spécifique')\n",
        "plt.ylabel('Probabilité')\n",
        "plt.show()\n",
        "\n",
        "print(\"Espérance de la variable aléatoire binomiale :\", esperance)\n",
        "print(\"Variance de la variable aléatoire binomiale :\", variance)"
      ],
      "metadata": {
        "colab": {
          "base_uri": "https://localhost:8080/",
          "height": 600
        },
        "id": "KyOpH_xBKwc5",
        "outputId": "d9a9948a-46fe-4868-dc36-9c23f37350cd"
      },
      "execution_count": null,
      "outputs": [
        {
          "output_type": "display_data",
          "data": {
            "text/plain": [
              "<Figure size 1000x600 with 1 Axes>"
            ],
            "image/png": "[encoded data removed]"
          },
          "metadata": {}
        },
        {
          "output_type": "stream",
          "name": "stdout",
          "text": [
            "Espérance de la variable aléatoire binomiale : 0.5263157894736842\n",
            "Variance de la variable aléatoire binomiale : 0.5124653739612188\n"
          ]
        }
      ]
    },
    {
      "cell_type": "markdown",
      "source": [
        "# 4. Conclution:"
      ],
      "metadata": {
        "id": "XKAaq34ILb_-"
      }
    },
    {
      "cell_type": "markdown",
      "source": [
        "La distribution de probabilité affiche la probabilité de chaque nombre d'atterrissages sur un numéro spécifique en 20 tours de roulette. Espérance de la variable aléatoire binomiale : 0.5263157894736842\n",
        "Variance de la variable aléatoire binomiale : 0.5124653739612188\n"
      ],
      "metadata": {
        "id": "2MCheOXLLX2R"
      }
    }
  ]
}